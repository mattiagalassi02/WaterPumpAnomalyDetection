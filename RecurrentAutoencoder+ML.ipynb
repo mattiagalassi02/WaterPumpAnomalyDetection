{
 "cells": [
  {
   "cell_type": "markdown",
   "metadata": {},
   "source": [
    "# Anomaly Detection with Autoencoder in PyTorch - TEST FOR WPAD PROJECT \n",
    "\n",
    "### 1. **Data Preprocessing**\n",
    "   - **Audio Feature Extraction**:\n",
    "     - Techniques include extracting features such as Mel-Frequency Cepstral Coefficients (MFCCs), spectrograms, or log-mel spectrograms. In particular here we have focused on delta and delta 2 additionals over MFCCs. \n",
    "   - **Normalization and Augmentation**:\n",
    "     - The extracted features are likely normalized to ensure consistent input scales for the model\n",
    "---\n",
    "\n",
    "### 2. **Recurrent Autoencoder Implementation**\n",
    "   - **Autoencoder Structure**:\n",
    "     - The notebook employs a recurrent neural network (RNN)-based architecture, such as Long Short-Term Memory (LSTM) or Gated Recurrent Units (GRUs), to capture temporal dependencies in the audio data.\n",
    "     - The autoencoder consists of:\n",
    "       - An **encoder** to compress input features into a latent representation.\n",
    "       - A **decoder** to reconstruct the input from the latent representation.\n",
    "   - **Objective**:\n",
    "     - The model is trained to minimize the reconstruction error, which should be significantly higher for anomalous inputs.\n",
    "\n",
    "---\n",
    "\n",
    "### 3. **Machine Learning Models**\n",
    "   - **Integration with Machine Learning**:\n",
    "     - Features extracted by the recurrent autoencoder have been used as inputs to classical machine learning models (e.g., Support Vector Machines, Random Forests, or Gradient Boosting) for anomaly classification.\n",
    "\n",
    "---\n",
    "\n",
    "### 4. **Training and Optimization**\n",
    "   - **Training Process**:\n",
    "     - The autoencoder is trained using a loss function such as Mean Squared Error (MSE).\n",
    "   - **Optimization**:\n",
    "     - Gradient descent-based optimizers (e.g., Adam or RMSprop) are used to minimize the loss.\n",
    "\n",
    "---\n",
    "\n",
    "### 5. **Evaluation and Results**\n",
    "   - **Performance Metrics**:\n",
    "     - Reconstruction error thresholds are analyzed to differentiate normal from anomalous data.\n",
    "     - Metrics such as Precision, Recall, F1-score, and ROC-AUC are be calculated to evaluate the effectiveness of the model.\n",
    "   - **Visualizations**:\n",
    "     - Loss curves during training.\n",
    "     - Reconstruction errors for normal and anomalous samples.\n",
    "     - Confusion matrices or threshold-vs-performance plots.\n",
    "\n"
   ]
  },
  {
   "cell_type": "code",
   "execution_count": 1,
   "metadata": {
    "colab": {
     "base_uri": "https://localhost:8080/"
    },
    "executionInfo": {
     "elapsed": 33616,
     "status": "ok",
     "timestamp": 1736337509379,
     "user": {
      "displayName": "Mattia Galassi",
      "userId": "07171652322997619641"
     },
     "user_tz": -60
    },
    "id": "Neq6o4xZxTrE",
    "outputId": "e103d21a-6bed-4cee-c1a8-b1dd3b0f298b"
   },
   "outputs": [],
   "source": [
    "import os\n",
    "dataset_base_path = \"./water pump audio for anomaly detection/\" \n",
    "\n",
    "train_normal_path = os.path.join(dataset_base_path, \"train-normal\")\n",
    "test_normal_path = os.path.join(dataset_base_path, \"test-normal\")\n",
    "anomaly_path = os.path.join(dataset_base_path, \"anomaly\")"
   ]
  },
  {
   "cell_type": "code",
   "execution_count": 2,
   "metadata": {
    "executionInfo": {
     "elapsed": 218,
     "status": "ok",
     "timestamp": 1736337542226,
     "user": {
      "displayName": "Mattia Galassi",
      "userId": "07171652322997619641"
     },
     "user_tz": -60
    },
    "id": "YVmBQJ8JmjNy"
   },
   "outputs": [],
   "source": [
    "import librosa\n",
    "import numpy as np\n",
    "\n",
    "def load_audio_files(path, sr=22050, duration=10):\n",
    "    audio_files = []\n",
    "    for file in os.listdir(path):\n",
    "        if file.endswith(\".wav\"):\n",
    "            file_path = os.path.join(path, file)\n",
    "            audio, _ = librosa.load(file_path, sr=sr, duration=duration)\n",
    "            audio_files.append(audio)\n",
    "    return np.array(audio_files)"
   ]
  },
  {
   "cell_type": "code",
   "execution_count": 3,
   "metadata": {
    "executionInfo": {
     "elapsed": 42107,
     "status": "ok",
     "timestamp": 1736337586408,
     "user": {
      "displayName": "Mattia Galassi",
      "userId": "07171652322997619641"
     },
     "user_tz": -60
    },
    "id": "jTYBFTIkmlX4"
   },
   "outputs": [],
   "source": [
    "train_normal_files = load_audio_files(train_normal_path)\n",
    "test_normal_files = load_audio_files(test_normal_path)\n",
    "anomaly_files = load_audio_files(anomaly_path)"
   ]
  },
  {
   "cell_type": "code",
   "execution_count": 4,
   "metadata": {
    "executionInfo": {
     "elapsed": 202,
     "status": "ok",
     "timestamp": 1736338086848,
     "user": {
      "displayName": "Mattia Galassi",
      "userId": "07171652322997619641"
     },
     "user_tz": -60
    },
    "id": "d1G90lN2Ul4J"
   },
   "outputs": [],
   "source": [
    "def extract_mfcc_features(audio_files, sr=22050, n_mfcc=20):\n",
    "    mfcc_features = []\n",
    "    for audio in audio_files:\n",
    "        mfcc = librosa.feature.mfcc(y=audio, sr=sr, n_mfcc=n_mfcc)\n",
    "        mfcc_features.append(mfcc)\n",
    "    return np.array(mfcc_features)\n",
    "\n",
    "def extract_delta_mfcc_features(mfcc_features):\n",
    "  return librosa.feature.delta(mfcc_features)\n",
    "\n",
    "def extract_delta2_mfcc_features(mfcc_features):\n",
    "  return librosa.feature.delta(mfcc_features, order=2)\n",
    "\n",
    "def combine_mfcc_features(mfcc_features, delta_mfcc_features, delta2_mfcc_features):\n",
    "  return np.concatenate((mfcc_features, delta_mfcc_features, delta2_mfcc_features), axis=2)"
   ]
  },
  {
   "cell_type": "code",
   "execution_count": 5,
   "metadata": {
    "executionInfo": {
     "elapsed": 88301,
     "status": "ok",
     "timestamp": 1736338177426,
     "user": {
      "displayName": "Mattia Galassi",
      "userId": "07171652322997619641"
     },
     "user_tz": -60
    },
    "id": "eX7IQOiVVRCT"
   },
   "outputs": [],
   "source": [
    "train_mfcc_features = extract_mfcc_features(train_normal_files)\n",
    "train_mfcc_delta_features = extract_delta_mfcc_features(train_mfcc_features)\n",
    "train_mfcc_delta2_features = extract_delta2_mfcc_features(train_mfcc_features)\n",
    "\n",
    "test_mfcc_features = extract_mfcc_features(test_normal_files)\n",
    "test_mfcc_delta_features = extract_delta_mfcc_features(test_mfcc_features)\n",
    "test_mfcc_delta2_features = extract_delta2_mfcc_features(test_mfcc_features)\n",
    "\n",
    "anomaly_mfcc_features = extract_mfcc_features(anomaly_files)\n",
    "anomaly_mfcc_delta_features = extract_delta_mfcc_features(anomaly_mfcc_features)\n",
    "anomaly_mfcc_delta2_features = extract_delta2_mfcc_features(anomaly_mfcc_features)"
   ]
  },
  {
   "cell_type": "code",
   "execution_count": 6,
   "metadata": {
    "colab": {
     "base_uri": "https://localhost:8080/"
    },
    "executionInfo": {
     "elapsed": 227,
     "status": "ok",
     "timestamp": 1736338203100,
     "user": {
      "displayName": "Mattia Galassi",
      "userId": "07171652322997619641"
     },
     "user_tz": -60
    },
    "id": "YCx5IccfXQg-",
    "outputId": "c0a798a5-4876-4a7f-9e56-de642d4e4695"
   },
   "outputs": [
    {
     "name": "stdout",
     "output_type": "stream",
     "text": [
      "(2241, 20, 431)\n",
      "(2241, 20, 431)\n",
      "(2241, 20, 431)\n",
      "(400, 20, 431)\n",
      "(400, 20, 431)\n",
      "(400, 20, 431)\n",
      "(456, 20, 431)\n",
      "(456, 20, 431)\n",
      "(456, 20, 431)\n"
     ]
    }
   ],
   "source": [
    "print(train_mfcc_features.shape)\n",
    "print(train_mfcc_delta_features.shape)\n",
    "print(train_mfcc_delta2_features.shape)\n",
    "\n",
    "print(test_mfcc_features.shape)\n",
    "print(test_mfcc_delta_features.shape)\n",
    "print(test_mfcc_delta2_features.shape)\n",
    "\n",
    "print(anomaly_mfcc_features.shape)\n",
    "print(anomaly_mfcc_delta_features.shape)\n",
    "print(anomaly_mfcc_delta2_features.shape)"
   ]
  },
  {
   "cell_type": "code",
   "execution_count": 7,
   "metadata": {
    "executionInfo": {
     "elapsed": 233,
     "status": "ok",
     "timestamp": 1736338207924,
     "user": {
      "displayName": "Mattia Galassi",
      "userId": "07171652322997619641"
     },
     "user_tz": -60
    },
    "id": "qB57ZiPgnri_"
   },
   "outputs": [],
   "source": [
    "train_mfcc_features = train_mfcc_features.transpose(0, 2, 1)\n",
    "train_mfcc_delta_features = train_mfcc_delta_features.transpose(0, 2, 1)\n",
    "train_mfcc_delta2_features = train_mfcc_delta2_features.transpose(0, 2, 1)\n",
    "\n",
    "test_mfcc_features = test_mfcc_features.transpose(0, 2, 1)\n",
    "test_mfcc_delta_features = test_mfcc_delta_features.transpose(0, 2, 1)\n",
    "test_mfcc_delta2_features = test_mfcc_delta2_features.transpose(0, 2, 1)\n",
    "\n",
    "anomaly_mfcc_features = anomaly_mfcc_features.transpose(0, 2, 1)\n",
    "anomaly_mfcc_delta_features = anomaly_mfcc_delta_features.transpose(0, 2, 1)\n",
    "anomaly_mfcc_delta2_features = anomaly_mfcc_delta2_features.transpose(0, 2, 1)"
   ]
  },
  {
   "cell_type": "code",
   "execution_count": 8,
   "metadata": {
    "colab": {
     "base_uri": "https://localhost:8080/"
    },
    "executionInfo": {
     "elapsed": 222,
     "status": "ok",
     "timestamp": 1736338210024,
     "user": {
      "displayName": "Mattia Galassi",
      "userId": "07171652322997619641"
     },
     "user_tz": -60
    },
    "id": "gizKN22LoERg",
    "outputId": "0e43420c-0bb9-4bee-c60d-2bc783f75930"
   },
   "outputs": [
    {
     "name": "stdout",
     "output_type": "stream",
     "text": [
      "(2241, 431, 20)\n",
      "(2241, 431, 20)\n",
      "(2241, 431, 20)\n",
      "(400, 431, 20)\n",
      "(400, 431, 20)\n",
      "(400, 431, 20)\n",
      "(456, 431, 20)\n",
      "(456, 431, 20)\n",
      "(456, 431, 20)\n"
     ]
    }
   ],
   "source": [
    "print(train_mfcc_features.shape)\n",
    "print(train_mfcc_delta_features.shape)\n",
    "print(train_mfcc_delta2_features.shape)\n",
    "\n",
    "print(test_mfcc_features.shape)\n",
    "print(test_mfcc_delta_features.shape)\n",
    "print(test_mfcc_delta2_features.shape)\n",
    "\n",
    "print(anomaly_mfcc_features.shape)\n",
    "print(anomaly_mfcc_delta_features.shape)\n",
    "print(anomaly_mfcc_delta2_features.shape)"
   ]
  },
  {
   "cell_type": "code",
   "execution_count": 9,
   "metadata": {
    "colab": {
     "base_uri": "https://localhost:8080/"
    },
    "executionInfo": {
     "elapsed": 247,
     "status": "ok",
     "timestamp": 1736338212215,
     "user": {
      "displayName": "Mattia Galassi",
      "userId": "07171652322997619641"
     },
     "user_tz": -60
    },
    "id": "Sqw1kVsWqSXP",
    "outputId": "615d19a5-502c-4d7a-cf28-6b659b7b14dc"
   },
   "outputs": [
    {
     "name": "stdout",
     "output_type": "stream",
     "text": [
      "[-319.93805     140.8861      -58.68744      69.78906     -42.427807\n",
      "   51.037354    -28.234417     28.478525    -16.219477      8.359261\n",
      "   -0.77478385   -2.9664936     9.348087    -13.183616     15.227369\n",
      "  -12.8544       12.349816    -11.598909      7.2319922    -4.3574514 ]\n",
      "[16.733097  14.79675   12.867975  10.41961    9.225545   6.860077\n",
      "  8.463519   6.0726953  5.2199483  4.8461113  4.890217   5.8585978\n",
      "  5.6116095  5.3657575  4.865934   5.261503   4.916163   5.3106685\n",
      "  4.8404555  5.0357285]\n"
     ]
    }
   ],
   "source": [
    "print(np.mean(train_mfcc_features, axis=(0, 1)))\n",
    "print(np.std(train_mfcc_features, axis=(0, 1)))"
   ]
  },
  {
   "cell_type": "code",
   "execution_count": 10,
   "metadata": {
    "colab": {
     "base_uri": "https://localhost:8080/"
    },
    "executionInfo": {
     "elapsed": 238,
     "status": "ok",
     "timestamp": 1736338213679,
     "user": {
      "displayName": "Mattia Galassi",
      "userId": "07171652322997619641"
     },
     "user_tz": -60
    },
    "id": "_1AmJeERqnim",
    "outputId": "2b8a73f7-10f3-4607-c2f1-50475d0718cf"
   },
   "outputs": [
    {
     "name": "stdout",
     "output_type": "stream",
     "text": [
      "[-304.97168     141.61324     -59.84097      67.75717     -44.847965\n",
      "   46.98575     -28.37446      26.932156    -17.494556      7.2536144\n",
      "   -0.56628424   -5.220806      9.010012    -11.277827     14.912355\n",
      "  -12.050111     12.968585    -10.409133      6.338522     -5.317994  ]\n",
      "[29.375875  17.6061    12.821865  12.010669   9.336699   9.919124\n",
      "  7.6562204  6.8385596  6.033835   5.1771765  5.06318    5.4918213\n",
      "  5.3479137  4.9937873  4.920779   5.3926034  4.890999   5.5275116\n",
      "  5.016534   4.8490953]\n"
     ]
    }
   ],
   "source": [
    "print(np.mean(anomaly_mfcc_features, axis=(0, 1)))\n",
    "print(np.std(anomaly_mfcc_features, axis=(0, 1)))"
   ]
  },
  {
   "cell_type": "code",
   "execution_count": 12,
   "metadata": {
    "executionInfo": {
     "elapsed": 230,
     "status": "ok",
     "timestamp": 1736338219724,
     "user": {
      "displayName": "Mattia Galassi",
      "userId": "07171652322997619641"
     },
     "user_tz": -60
    },
    "id": "m_oTMf8CrqJf"
   },
   "outputs": [],
   "source": [
    "def normalize_features(train_mfcc_features, test_mfcc_features, anomaly_mfcc_features):\n",
    "  train_means = np.mean(train_mfcc_features, axis=(0, 1), keepdims=True)\n",
    "  train_stds = np.std(train_mfcc_features, axis=(0, 1), keepdims=True) + 1e-8\n",
    "  train_mfcc_features_scaled = (train_mfcc_features - train_means) / train_stds\n",
    "  test_mfcc_features_scaled = (test_mfcc_features - train_means) / train_stds\n",
    "  anomaly_mfcc_features_scaled = (anomaly_mfcc_features - train_means) / train_stds\n",
    "  return train_mfcc_features_scaled, test_mfcc_features_scaled, anomaly_mfcc_features_scaled"
   ]
  },
  {
   "cell_type": "code",
   "execution_count": 13,
   "metadata": {
    "executionInfo": {
     "elapsed": 940,
     "status": "ok",
     "timestamp": 1736338222766,
     "user": {
      "displayName": "Mattia Galassi",
      "userId": "07171652322997619641"
     },
     "user_tz": -60
    },
    "id": "9xYnul-wr-Ay"
   },
   "outputs": [],
   "source": [
    "train_mfcc_features_scaled, test_mfcc_features_scaled, anomaly_mfcc_features_scaled = normalize_features(train_mfcc_features, test_mfcc_features, anomaly_mfcc_features)\n",
    "train_mfcc_delta_features_scaled, test_mfcc_delta_features_scaled, anomaly_mfcc_delta_features_scaled = normalize_features(train_mfcc_delta_features, test_mfcc_delta_features, anomaly_mfcc_delta_features)\n",
    "train_mfcc_delta2_features_scaled, test_mfcc_delta2_features_scaled, anomaly_mfcc_delta2_features_scaled = normalize_features(train_mfcc_delta2_features, test_mfcc_delta2_features, anomaly_mfcc_delta2_features)"
   ]
  },
  {
   "cell_type": "code",
   "execution_count": 14,
   "metadata": {
    "executionInfo": {
     "elapsed": 239,
     "status": "ok",
     "timestamp": 1736338224024,
     "user": {
      "displayName": "Mattia Galassi",
      "userId": "07171652322997619641"
     },
     "user_tz": -60
    },
    "id": "auAFhDC5sCbn"
   },
   "outputs": [],
   "source": [
    "train_mfcc_features_combined = combine_mfcc_features(train_mfcc_features_scaled, train_mfcc_delta_features_scaled, train_mfcc_delta2_features_scaled)\n",
    "test_mfcc_features_combined = combine_mfcc_features(test_mfcc_features_scaled, test_mfcc_delta_features_scaled, test_mfcc_delta2_features_scaled)\n",
    "anomaly_mfcc_features_combined = combine_mfcc_features(anomaly_mfcc_features_scaled, anomaly_mfcc_delta_features_scaled, anomaly_mfcc_delta2_features_scaled)"
   ]
  },
  {
   "cell_type": "code",
   "execution_count": 15,
   "metadata": {
    "colab": {
     "base_uri": "https://localhost:8080/"
    },
    "executionInfo": {
     "elapsed": 212,
     "status": "ok",
     "timestamp": 1736338225305,
     "user": {
      "displayName": "Mattia Galassi",
      "userId": "07171652322997619641"
     },
     "user_tz": -60
    },
    "id": "au7OGEoZz65O",
    "outputId": "331c29c5-c483-43fd-b741-26f8b1a313dd"
   },
   "outputs": [
    {
     "name": "stdout",
     "output_type": "stream",
     "text": [
      "(2241, 431, 60)\n",
      "(400, 431, 60)\n",
      "(456, 431, 60)\n"
     ]
    }
   ],
   "source": [
    "print(train_mfcc_features_combined.shape)\n",
    "print(test_mfcc_features_combined.shape)\n",
    "print(anomaly_mfcc_features_combined.shape)"
   ]
  },
  {
   "cell_type": "code",
   "execution_count": 16,
   "metadata": {
    "colab": {
     "base_uri": "https://localhost:8080/",
     "height": 545
    },
    "executionInfo": {
     "elapsed": 245,
     "status": "ok",
     "timestamp": 1736338229593,
     "user": {
      "displayName": "Mattia Galassi",
      "userId": "07171652322997619641"
     },
     "user_tz": -60
    },
    "id": "Zl_ohuxlaHak",
    "outputId": "52cad7b2-da2a-458d-c499-041695401205"
   },
   "outputs": [
    {
     "data": {
      "text/html": [
       "<pre style=\"white-space:pre;overflow-x:auto;line-height:normal;font-family:Menlo,'DejaVu Sans Mono',consolas,'Courier New',monospace\"><span style=\"font-weight: bold\">Model: \"Recurrent_Autoencoder\"</span>\n",
       "</pre>\n"
      ],
      "text/plain": [
       "\u001b[1mModel: \"Recurrent_Autoencoder\"\u001b[0m\n"
      ]
     },
     "metadata": {},
     "output_type": "display_data"
    },
    {
     "data": {
      "text/html": [
       "<pre style=\"white-space:pre;overflow-x:auto;line-height:normal;font-family:Menlo,'DejaVu Sans Mono',consolas,'Courier New',monospace\">┏━━━━━━━━━━━━━━━━━━━━━━━━━━━━━━━━━┳━━━━━━━━━━━━━━━━━━━━━━━━┳━━━━━━━━━━━━━━━┓\n",
       "┃<span style=\"font-weight: bold\"> Layer (type)                    </span>┃<span style=\"font-weight: bold\"> Output Shape           </span>┃<span style=\"font-weight: bold\">       Param # </span>┃\n",
       "┡━━━━━━━━━━━━━━━━━━━━━━━━━━━━━━━━━╇━━━━━━━━━━━━━━━━━━━━━━━━╇━━━━━━━━━━━━━━━┩\n",
       "│ input_layer (<span style=\"color: #0087ff; text-decoration-color: #0087ff\">InputLayer</span>)        │ (<span style=\"color: #00d7ff; text-decoration-color: #00d7ff\">None</span>, <span style=\"color: #00af00; text-decoration-color: #00af00\">431</span>, <span style=\"color: #00af00; text-decoration-color: #00af00\">60</span>)        │             <span style=\"color: #00af00; text-decoration-color: #00af00\">0</span> │\n",
       "├─────────────────────────────────┼────────────────────────┼───────────────┤\n",
       "│ lstm (<span style=\"color: #0087ff; text-decoration-color: #0087ff\">LSTM</span>)                     │ (<span style=\"color: #00d7ff; text-decoration-color: #00d7ff\">None</span>, <span style=\"color: #00af00; text-decoration-color: #00af00\">431</span>, <span style=\"color: #00af00; text-decoration-color: #00af00\">128</span>)       │        <span style=\"color: #00af00; text-decoration-color: #00af00\">96,768</span> │\n",
       "├─────────────────────────────────┼────────────────────────┼───────────────┤\n",
       "│ lstm_1 (<span style=\"color: #0087ff; text-decoration-color: #0087ff\">LSTM</span>)                   │ (<span style=\"color: #00d7ff; text-decoration-color: #00d7ff\">None</span>, <span style=\"color: #00af00; text-decoration-color: #00af00\">64</span>)             │        <span style=\"color: #00af00; text-decoration-color: #00af00\">49,408</span> │\n",
       "├─────────────────────────────────┼────────────────────────┼───────────────┤\n",
       "│ repeat_vector (<span style=\"color: #0087ff; text-decoration-color: #0087ff\">RepeatVector</span>)    │ (<span style=\"color: #00d7ff; text-decoration-color: #00d7ff\">None</span>, <span style=\"color: #00af00; text-decoration-color: #00af00\">431</span>, <span style=\"color: #00af00; text-decoration-color: #00af00\">64</span>)        │             <span style=\"color: #00af00; text-decoration-color: #00af00\">0</span> │\n",
       "├─────────────────────────────────┼────────────────────────┼───────────────┤\n",
       "│ lstm_2 (<span style=\"color: #0087ff; text-decoration-color: #0087ff\">LSTM</span>)                   │ (<span style=\"color: #00d7ff; text-decoration-color: #00d7ff\">None</span>, <span style=\"color: #00af00; text-decoration-color: #00af00\">431</span>, <span style=\"color: #00af00; text-decoration-color: #00af00\">128</span>)       │        <span style=\"color: #00af00; text-decoration-color: #00af00\">98,816</span> │\n",
       "├─────────────────────────────────┼────────────────────────┼───────────────┤\n",
       "│ lstm_3 (<span style=\"color: #0087ff; text-decoration-color: #0087ff\">LSTM</span>)                   │ (<span style=\"color: #00d7ff; text-decoration-color: #00d7ff\">None</span>, <span style=\"color: #00af00; text-decoration-color: #00af00\">431</span>, <span style=\"color: #00af00; text-decoration-color: #00af00\">60</span>)        │        <span style=\"color: #00af00; text-decoration-color: #00af00\">45,360</span> │\n",
       "└─────────────────────────────────┴────────────────────────┴───────────────┘\n",
       "</pre>\n"
      ],
      "text/plain": [
       "┏━━━━━━━━━━━━━━━━━━━━━━━━━━━━━━━━━┳━━━━━━━━━━━━━━━━━━━━━━━━┳━━━━━━━━━━━━━━━┓\n",
       "┃\u001b[1m \u001b[0m\u001b[1mLayer (type)                   \u001b[0m\u001b[1m \u001b[0m┃\u001b[1m \u001b[0m\u001b[1mOutput Shape          \u001b[0m\u001b[1m \u001b[0m┃\u001b[1m \u001b[0m\u001b[1m      Param #\u001b[0m\u001b[1m \u001b[0m┃\n",
       "┡━━━━━━━━━━━━━━━━━━━━━━━━━━━━━━━━━╇━━━━━━━━━━━━━━━━━━━━━━━━╇━━━━━━━━━━━━━━━┩\n",
       "│ input_layer (\u001b[38;5;33mInputLayer\u001b[0m)        │ (\u001b[38;5;45mNone\u001b[0m, \u001b[38;5;34m431\u001b[0m, \u001b[38;5;34m60\u001b[0m)        │             \u001b[38;5;34m0\u001b[0m │\n",
       "├─────────────────────────────────┼────────────────────────┼───────────────┤\n",
       "│ lstm (\u001b[38;5;33mLSTM\u001b[0m)                     │ (\u001b[38;5;45mNone\u001b[0m, \u001b[38;5;34m431\u001b[0m, \u001b[38;5;34m128\u001b[0m)       │        \u001b[38;5;34m96,768\u001b[0m │\n",
       "├─────────────────────────────────┼────────────────────────┼───────────────┤\n",
       "│ lstm_1 (\u001b[38;5;33mLSTM\u001b[0m)                   │ (\u001b[38;5;45mNone\u001b[0m, \u001b[38;5;34m64\u001b[0m)             │        \u001b[38;5;34m49,408\u001b[0m │\n",
       "├─────────────────────────────────┼────────────────────────┼───────────────┤\n",
       "│ repeat_vector (\u001b[38;5;33mRepeatVector\u001b[0m)    │ (\u001b[38;5;45mNone\u001b[0m, \u001b[38;5;34m431\u001b[0m, \u001b[38;5;34m64\u001b[0m)        │             \u001b[38;5;34m0\u001b[0m │\n",
       "├─────────────────────────────────┼────────────────────────┼───────────────┤\n",
       "│ lstm_2 (\u001b[38;5;33mLSTM\u001b[0m)                   │ (\u001b[38;5;45mNone\u001b[0m, \u001b[38;5;34m431\u001b[0m, \u001b[38;5;34m128\u001b[0m)       │        \u001b[38;5;34m98,816\u001b[0m │\n",
       "├─────────────────────────────────┼────────────────────────┼───────────────┤\n",
       "│ lstm_3 (\u001b[38;5;33mLSTM\u001b[0m)                   │ (\u001b[38;5;45mNone\u001b[0m, \u001b[38;5;34m431\u001b[0m, \u001b[38;5;34m60\u001b[0m)        │        \u001b[38;5;34m45,360\u001b[0m │\n",
       "└─────────────────────────────────┴────────────────────────┴───────────────┘\n"
      ]
     },
     "metadata": {},
     "output_type": "display_data"
    },
    {
     "data": {
      "text/html": [
       "<pre style=\"white-space:pre;overflow-x:auto;line-height:normal;font-family:Menlo,'DejaVu Sans Mono',consolas,'Courier New',monospace\"><span style=\"font-weight: bold\"> Total params: </span><span style=\"color: #00af00; text-decoration-color: #00af00\">290,352</span> (1.11 MB)\n",
       "</pre>\n"
      ],
      "text/plain": [
       "\u001b[1m Total params: \u001b[0m\u001b[38;5;34m290,352\u001b[0m (1.11 MB)\n"
      ]
     },
     "metadata": {},
     "output_type": "display_data"
    },
    {
     "data": {
      "text/html": [
       "<pre style=\"white-space:pre;overflow-x:auto;line-height:normal;font-family:Menlo,'DejaVu Sans Mono',consolas,'Courier New',monospace\"><span style=\"font-weight: bold\"> Trainable params: </span><span style=\"color: #00af00; text-decoration-color: #00af00\">290,352</span> (1.11 MB)\n",
       "</pre>\n"
      ],
      "text/plain": [
       "\u001b[1m Trainable params: \u001b[0m\u001b[38;5;34m290,352\u001b[0m (1.11 MB)\n"
      ]
     },
     "metadata": {},
     "output_type": "display_data"
    },
    {
     "data": {
      "text/html": [
       "<pre style=\"white-space:pre;overflow-x:auto;line-height:normal;font-family:Menlo,'DejaVu Sans Mono',consolas,'Courier New',monospace\"><span style=\"font-weight: bold\"> Non-trainable params: </span><span style=\"color: #00af00; text-decoration-color: #00af00\">0</span> (0.00 B)\n",
       "</pre>\n"
      ],
      "text/plain": [
       "\u001b[1m Non-trainable params: \u001b[0m\u001b[38;5;34m0\u001b[0m (0.00 B)\n"
      ]
     },
     "metadata": {},
     "output_type": "display_data"
    },
    {
     "data": {
      "text/html": [
       "<pre style=\"white-space:pre;overflow-x:auto;line-height:normal;font-family:Menlo,'DejaVu Sans Mono',consolas,'Courier New',monospace\"><span style=\"font-weight: bold\">Model: \"Encoder\"</span>\n",
       "</pre>\n"
      ],
      "text/plain": [
       "\u001b[1mModel: \"Encoder\"\u001b[0m\n"
      ]
     },
     "metadata": {},
     "output_type": "display_data"
    },
    {
     "data": {
      "text/html": [
       "<pre style=\"white-space:pre;overflow-x:auto;line-height:normal;font-family:Menlo,'DejaVu Sans Mono',consolas,'Courier New',monospace\">┏━━━━━━━━━━━━━━━━━━━━━━━━━━━━━━━━━┳━━━━━━━━━━━━━━━━━━━━━━━━┳━━━━━━━━━━━━━━━┓\n",
       "┃<span style=\"font-weight: bold\"> Layer (type)                    </span>┃<span style=\"font-weight: bold\"> Output Shape           </span>┃<span style=\"font-weight: bold\">       Param # </span>┃\n",
       "┡━━━━━━━━━━━━━━━━━━━━━━━━━━━━━━━━━╇━━━━━━━━━━━━━━━━━━━━━━━━╇━━━━━━━━━━━━━━━┩\n",
       "│ input_layer (<span style=\"color: #0087ff; text-decoration-color: #0087ff\">InputLayer</span>)        │ (<span style=\"color: #00d7ff; text-decoration-color: #00d7ff\">None</span>, <span style=\"color: #00af00; text-decoration-color: #00af00\">431</span>, <span style=\"color: #00af00; text-decoration-color: #00af00\">60</span>)        │             <span style=\"color: #00af00; text-decoration-color: #00af00\">0</span> │\n",
       "├─────────────────────────────────┼────────────────────────┼───────────────┤\n",
       "│ lstm (<span style=\"color: #0087ff; text-decoration-color: #0087ff\">LSTM</span>)                     │ (<span style=\"color: #00d7ff; text-decoration-color: #00d7ff\">None</span>, <span style=\"color: #00af00; text-decoration-color: #00af00\">431</span>, <span style=\"color: #00af00; text-decoration-color: #00af00\">128</span>)       │        <span style=\"color: #00af00; text-decoration-color: #00af00\">96,768</span> │\n",
       "├─────────────────────────────────┼────────────────────────┼───────────────┤\n",
       "│ lstm_1 (<span style=\"color: #0087ff; text-decoration-color: #0087ff\">LSTM</span>)                   │ (<span style=\"color: #00d7ff; text-decoration-color: #00d7ff\">None</span>, <span style=\"color: #00af00; text-decoration-color: #00af00\">64</span>)             │        <span style=\"color: #00af00; text-decoration-color: #00af00\">49,408</span> │\n",
       "└─────────────────────────────────┴────────────────────────┴───────────────┘\n",
       "</pre>\n"
      ],
      "text/plain": [
       "┏━━━━━━━━━━━━━━━━━━━━━━━━━━━━━━━━━┳━━━━━━━━━━━━━━━━━━━━━━━━┳━━━━━━━━━━━━━━━┓\n",
       "┃\u001b[1m \u001b[0m\u001b[1mLayer (type)                   \u001b[0m\u001b[1m \u001b[0m┃\u001b[1m \u001b[0m\u001b[1mOutput Shape          \u001b[0m\u001b[1m \u001b[0m┃\u001b[1m \u001b[0m\u001b[1m      Param #\u001b[0m\u001b[1m \u001b[0m┃\n",
       "┡━━━━━━━━━━━━━━━━━━━━━━━━━━━━━━━━━╇━━━━━━━━━━━━━━━━━━━━━━━━╇━━━━━━━━━━━━━━━┩\n",
       "│ input_layer (\u001b[38;5;33mInputLayer\u001b[0m)        │ (\u001b[38;5;45mNone\u001b[0m, \u001b[38;5;34m431\u001b[0m, \u001b[38;5;34m60\u001b[0m)        │             \u001b[38;5;34m0\u001b[0m │\n",
       "├─────────────────────────────────┼────────────────────────┼───────────────┤\n",
       "│ lstm (\u001b[38;5;33mLSTM\u001b[0m)                     │ (\u001b[38;5;45mNone\u001b[0m, \u001b[38;5;34m431\u001b[0m, \u001b[38;5;34m128\u001b[0m)       │        \u001b[38;5;34m96,768\u001b[0m │\n",
       "├─────────────────────────────────┼────────────────────────┼───────────────┤\n",
       "│ lstm_1 (\u001b[38;5;33mLSTM\u001b[0m)                   │ (\u001b[38;5;45mNone\u001b[0m, \u001b[38;5;34m64\u001b[0m)             │        \u001b[38;5;34m49,408\u001b[0m │\n",
       "└─────────────────────────────────┴────────────────────────┴───────────────┘\n"
      ]
     },
     "metadata": {},
     "output_type": "display_data"
    },
    {
     "data": {
      "text/html": [
       "<pre style=\"white-space:pre;overflow-x:auto;line-height:normal;font-family:Menlo,'DejaVu Sans Mono',consolas,'Courier New',monospace\"><span style=\"font-weight: bold\"> Total params: </span><span style=\"color: #00af00; text-decoration-color: #00af00\">146,176</span> (571.00 KB)\n",
       "</pre>\n"
      ],
      "text/plain": [
       "\u001b[1m Total params: \u001b[0m\u001b[38;5;34m146,176\u001b[0m (571.00 KB)\n"
      ]
     },
     "metadata": {},
     "output_type": "display_data"
    },
    {
     "data": {
      "text/html": [
       "<pre style=\"white-space:pre;overflow-x:auto;line-height:normal;font-family:Menlo,'DejaVu Sans Mono',consolas,'Courier New',monospace\"><span style=\"font-weight: bold\"> Trainable params: </span><span style=\"color: #00af00; text-decoration-color: #00af00\">146,176</span> (571.00 KB)\n",
       "</pre>\n"
      ],
      "text/plain": [
       "\u001b[1m Trainable params: \u001b[0m\u001b[38;5;34m146,176\u001b[0m (571.00 KB)\n"
      ]
     },
     "metadata": {},
     "output_type": "display_data"
    },
    {
     "data": {
      "text/html": [
       "<pre style=\"white-space:pre;overflow-x:auto;line-height:normal;font-family:Menlo,'DejaVu Sans Mono',consolas,'Courier New',monospace\"><span style=\"font-weight: bold\"> Non-trainable params: </span><span style=\"color: #00af00; text-decoration-color: #00af00\">0</span> (0.00 B)\n",
       "</pre>\n"
      ],
      "text/plain": [
       "\u001b[1m Non-trainable params: \u001b[0m\u001b[38;5;34m0\u001b[0m (0.00 B)\n"
      ]
     },
     "metadata": {},
     "output_type": "display_data"
    }
   ],
   "source": [
    "import tensorflow as tf\n",
    "from tensorflow.keras import layers, models\n",
    "\n",
    "# Input dimensions\n",
    "time_steps = 431  # Number of time frames\n",
    "n_mfcc = 60       # Number of MFCC coefficients\n",
    "latent_dim = 64   # Dimension of the latent space\n",
    "\n",
    "# Encoder\n",
    "encoder_inputs = tf.keras.Input(shape=(time_steps, n_mfcc))\n",
    "encoded = layers.LSTM(128, return_sequences=True)(encoder_inputs)\n",
    "encoded = layers.LSTM(latent_dim, return_sequences=False)(encoded)\n",
    "\n",
    "# Decoder\n",
    "decoded = layers.RepeatVector(time_steps)(encoded)\n",
    "decoded = layers.LSTM(128, return_sequences=True)(decoded)\n",
    "decoded = layers.LSTM(n_mfcc, return_sequences=True)(decoded)\n",
    "\n",
    "# Autoencoder\n",
    "autoencoder = models.Model(encoder_inputs, decoded, name=\"Recurrent_Autoencoder\")\n",
    "\n",
    "# Encoder model (for extracting latent space representation)\n",
    "latent_model = models.Model(encoder_inputs, encoded, name=\"Encoder\")\n",
    "\n",
    "# Compile the autoencoder\n",
    "autoencoder.compile(optimizer='adam', loss='mse')\n",
    "\n",
    "autoencoder.summary()\n",
    "latent_model.summary()\n"
   ]
  },
  {
   "cell_type": "code",
   "execution_count": 17,
   "metadata": {
    "colab": {
     "base_uri": "https://localhost:8080/"
    },
    "id": "dSfXBhAfqAIy",
    "outputId": "50dc93f6-939e-4f1b-f90b-991dbbbe8909"
   },
   "outputs": [
    {
     "name": "stdout",
     "output_type": "stream",
     "text": [
      "Epoch 1/50\n",
      "\u001b[1m56/56\u001b[0m \u001b[32m━━━━━━━━━━━━━━━━━━━━\u001b[0m\u001b[37m\u001b[0m \u001b[1m30s\u001b[0m 508ms/step - loss: 0.9457 - val_loss: 0.8708\n",
      "Epoch 2/50\n",
      "\u001b[1m56/56\u001b[0m \u001b[32m━━━━━━━━━━━━━━━━━━━━\u001b[0m\u001b[37m\u001b[0m \u001b[1m28s\u001b[0m 506ms/step - loss: 0.8701 - val_loss: 0.8561\n",
      "Epoch 3/50\n",
      "\u001b[1m56/56\u001b[0m \u001b[32m━━━━━━━━━━━━━━━━━━━━\u001b[0m\u001b[37m\u001b[0m \u001b[1m28s\u001b[0m 491ms/step - loss: 0.8528 - val_loss: 0.8505\n",
      "Epoch 4/50\n",
      "\u001b[1m56/56\u001b[0m \u001b[32m━━━━━━━━━━━━━━━━━━━━\u001b[0m\u001b[37m\u001b[0m \u001b[1m27s\u001b[0m 491ms/step - loss: 0.8585 - val_loss: 0.8448\n",
      "Epoch 5/50\n",
      "\u001b[1m56/56\u001b[0m \u001b[32m━━━━━━━━━━━━━━━━━━━━\u001b[0m\u001b[37m\u001b[0m \u001b[1m28s\u001b[0m 504ms/step - loss: 0.8407 - val_loss: 0.8413\n",
      "Epoch 6/50\n",
      "\u001b[1m56/56\u001b[0m \u001b[32m━━━━━━━━━━━━━━━━━━━━\u001b[0m\u001b[37m\u001b[0m \u001b[1m28s\u001b[0m 502ms/step - loss: 0.8407 - val_loss: 0.8373\n",
      "Epoch 7/50\n",
      "\u001b[1m56/56\u001b[0m \u001b[32m━━━━━━━━━━━━━━━━━━━━\u001b[0m\u001b[37m\u001b[0m \u001b[1m27s\u001b[0m 487ms/step - loss: 0.8433 - val_loss: 0.8331\n",
      "Epoch 8/50\n",
      "\u001b[1m56/56\u001b[0m \u001b[32m━━━━━━━━━━━━━━━━━━━━\u001b[0m\u001b[37m\u001b[0m \u001b[1m28s\u001b[0m 492ms/step - loss: 0.8287 - val_loss: 0.8297\n",
      "Epoch 9/50\n",
      "\u001b[1m56/56\u001b[0m \u001b[32m━━━━━━━━━━━━━━━━━━━━\u001b[0m\u001b[37m\u001b[0m \u001b[1m28s\u001b[0m 504ms/step - loss: 0.8282 - val_loss: 0.8287\n",
      "Epoch 10/50\n",
      "\u001b[1m56/56\u001b[0m \u001b[32m━━━━━━━━━━━━━━━━━━━━\u001b[0m\u001b[37m\u001b[0m \u001b[1m28s\u001b[0m 504ms/step - loss: 0.8240 - val_loss: 0.8270\n",
      "Epoch 11/50\n",
      "\u001b[1m56/56\u001b[0m \u001b[32m━━━━━━━━━━━━━━━━━━━━\u001b[0m\u001b[37m\u001b[0m \u001b[1m29s\u001b[0m 511ms/step - loss: 0.8188 - val_loss: 0.8262\n",
      "Epoch 12/50\n",
      "\u001b[1m56/56\u001b[0m \u001b[32m━━━━━━━━━━━━━━━━━━━━\u001b[0m\u001b[37m\u001b[0m \u001b[1m28s\u001b[0m 510ms/step - loss: 0.8262 - val_loss: 0.8261\n",
      "Epoch 13/50\n",
      "\u001b[1m56/56\u001b[0m \u001b[32m━━━━━━━━━━━━━━━━━━━━\u001b[0m\u001b[37m\u001b[0m \u001b[1m28s\u001b[0m 502ms/step - loss: 0.8224 - val_loss: 0.8252\n",
      "Epoch 14/50\n",
      "\u001b[1m56/56\u001b[0m \u001b[32m━━━━━━━━━━━━━━━━━━━━\u001b[0m\u001b[37m\u001b[0m \u001b[1m28s\u001b[0m 504ms/step - loss: 0.8241 - val_loss: 0.8249\n",
      "Epoch 15/50\n",
      "\u001b[1m56/56\u001b[0m \u001b[32m━━━━━━━━━━━━━━━━━━━━\u001b[0m\u001b[37m\u001b[0m \u001b[1m28s\u001b[0m 497ms/step - loss: 0.8223 - val_loss: 0.8251\n",
      "Epoch 16/50\n",
      "\u001b[1m56/56\u001b[0m \u001b[32m━━━━━━━━━━━━━━━━━━━━\u001b[0m\u001b[37m\u001b[0m \u001b[1m28s\u001b[0m 504ms/step - loss: 0.8214 - val_loss: 0.8244\n",
      "Epoch 17/50\n",
      "\u001b[1m56/56\u001b[0m \u001b[32m━━━━━━━━━━━━━━━━━━━━\u001b[0m\u001b[37m\u001b[0m \u001b[1m28s\u001b[0m 501ms/step - loss: 0.8078 - val_loss: 0.8241\n",
      "Epoch 18/50\n",
      "\u001b[1m56/56\u001b[0m \u001b[32m━━━━━━━━━━━━━━━━━━━━\u001b[0m\u001b[37m\u001b[0m \u001b[1m28s\u001b[0m 503ms/step - loss: 0.8205 - val_loss: 0.8242\n",
      "Epoch 19/50\n",
      "\u001b[1m56/56\u001b[0m \u001b[32m━━━━━━━━━━━━━━━━━━━━\u001b[0m\u001b[37m\u001b[0m \u001b[1m28s\u001b[0m 502ms/step - loss: 0.8187 - val_loss: 0.8234\n",
      "Epoch 20/50\n",
      "\u001b[1m56/56\u001b[0m \u001b[32m━━━━━━━━━━━━━━━━━━━━\u001b[0m\u001b[37m\u001b[0m \u001b[1m29s\u001b[0m 526ms/step - loss: 0.8152 - val_loss: 0.8235\n",
      "Epoch 21/50\n",
      "\u001b[1m56/56\u001b[0m \u001b[32m━━━━━━━━━━━━━━━━━━━━\u001b[0m\u001b[37m\u001b[0m \u001b[1m28s\u001b[0m 506ms/step - loss: 0.8200 - val_loss: 0.8235\n",
      "Epoch 22/50\n",
      "\u001b[1m56/56\u001b[0m \u001b[32m━━━━━━━━━━━━━━━━━━━━\u001b[0m\u001b[37m\u001b[0m \u001b[1m28s\u001b[0m 504ms/step - loss: 0.8241 - val_loss: 0.8229\n",
      "Epoch 23/50\n",
      "\u001b[1m56/56\u001b[0m \u001b[32m━━━━━━━━━━━━━━━━━━━━\u001b[0m\u001b[37m\u001b[0m \u001b[1m30s\u001b[0m 536ms/step - loss: 0.8114 - val_loss: 0.8233\n",
      "Epoch 24/50\n",
      "\u001b[1m56/56\u001b[0m \u001b[32m━━━━━━━━━━━━━━━━━━━━\u001b[0m\u001b[37m\u001b[0m \u001b[1m28s\u001b[0m 499ms/step - loss: 0.8087 - val_loss: 0.8234\n",
      "Epoch 25/50\n",
      "\u001b[1m56/56\u001b[0m \u001b[32m━━━━━━━━━━━━━━━━━━━━\u001b[0m\u001b[37m\u001b[0m \u001b[1m28s\u001b[0m 497ms/step - loss: 0.8209 - val_loss: 0.8232\n",
      "Epoch 26/50\n",
      "\u001b[1m56/56\u001b[0m \u001b[32m━━━━━━━━━━━━━━━━━━━━\u001b[0m\u001b[37m\u001b[0m \u001b[1m28s\u001b[0m 502ms/step - loss: 0.8210 - val_loss: 0.8231\n",
      "Epoch 27/50\n",
      "\u001b[1m56/56\u001b[0m \u001b[32m━━━━━━━━━━━━━━━━━━━━\u001b[0m\u001b[37m\u001b[0m \u001b[1m28s\u001b[0m 497ms/step - loss: 0.8206 - val_loss: 0.8227\n",
      "Epoch 28/50\n",
      "\u001b[1m56/56\u001b[0m \u001b[32m━━━━━━━━━━━━━━━━━━━━\u001b[0m\u001b[37m\u001b[0m \u001b[1m29s\u001b[0m 513ms/step - loss: 0.8125 - val_loss: 0.8229\n",
      "Epoch 29/50\n",
      "\u001b[1m56/56\u001b[0m \u001b[32m━━━━━━━━━━━━━━━━━━━━\u001b[0m\u001b[37m\u001b[0m \u001b[1m28s\u001b[0m 507ms/step - loss: 0.8104 - val_loss: 0.8228\n",
      "Epoch 30/50\n",
      "\u001b[1m56/56\u001b[0m \u001b[32m━━━━━━━━━━━━━━━━━━━━\u001b[0m\u001b[37m\u001b[0m \u001b[1m28s\u001b[0m 493ms/step - loss: 0.8085 - val_loss: 0.8234\n",
      "Epoch 31/50\n",
      "\u001b[1m56/56\u001b[0m \u001b[32m━━━━━━━━━━━━━━━━━━━━\u001b[0m\u001b[37m\u001b[0m \u001b[1m28s\u001b[0m 506ms/step - loss: 0.8047 - val_loss: 0.8227\n",
      "Epoch 32/50\n",
      "\u001b[1m56/56\u001b[0m \u001b[32m━━━━━━━━━━━━━━━━━━━━\u001b[0m\u001b[37m\u001b[0m \u001b[1m28s\u001b[0m 499ms/step - loss: 0.8198 - val_loss: 0.8225\n",
      "Epoch 33/50\n",
      "\u001b[1m56/56\u001b[0m \u001b[32m━━━━━━━━━━━━━━━━━━━━\u001b[0m\u001b[37m\u001b[0m \u001b[1m28s\u001b[0m 502ms/step - loss: 0.8099 - val_loss: 0.8230\n",
      "Epoch 34/50\n",
      "\u001b[1m56/56\u001b[0m \u001b[32m━━━━━━━━━━━━━━━━━━━━\u001b[0m\u001b[37m\u001b[0m \u001b[1m28s\u001b[0m 509ms/step - loss: 0.8117 - val_loss: 0.8224\n",
      "Epoch 35/50\n",
      "\u001b[1m56/56\u001b[0m \u001b[32m━━━━━━━━━━━━━━━━━━━━\u001b[0m\u001b[37m\u001b[0m \u001b[1m28s\u001b[0m 509ms/step - loss: 0.8171 - val_loss: 0.8227\n",
      "Epoch 36/50\n",
      "\u001b[1m56/56\u001b[0m \u001b[32m━━━━━━━━━━━━━━━━━━━━\u001b[0m\u001b[37m\u001b[0m \u001b[1m29s\u001b[0m 518ms/step - loss: 0.8161 - val_loss: 0.8225\n",
      "Epoch 37/50\n",
      "\u001b[1m56/56\u001b[0m \u001b[32m━━━━━━━━━━━━━━━━━━━━\u001b[0m\u001b[37m\u001b[0m \u001b[1m28s\u001b[0m 501ms/step - loss: 0.8214 - val_loss: 0.8227\n",
      "Epoch 38/50\n",
      "\u001b[1m56/56\u001b[0m \u001b[32m━━━━━━━━━━━━━━━━━━━━\u001b[0m\u001b[37m\u001b[0m \u001b[1m29s\u001b[0m 513ms/step - loss: 0.8123 - val_loss: 0.8227\n",
      "Epoch 39/50\n",
      "\u001b[1m56/56\u001b[0m \u001b[32m━━━━━━━━━━━━━━━━━━━━\u001b[0m\u001b[37m\u001b[0m \u001b[1m29s\u001b[0m 518ms/step - loss: 0.8202 - val_loss: 0.8226\n",
      "Epoch 40/50\n",
      "\u001b[1m56/56\u001b[0m \u001b[32m━━━━━━━━━━━━━━━━━━━━\u001b[0m\u001b[37m\u001b[0m \u001b[1m28s\u001b[0m 508ms/step - loss: 0.8094 - val_loss: 0.8228\n",
      "Epoch 41/50\n",
      "\u001b[1m56/56\u001b[0m \u001b[32m━━━━━━━━━━━━━━━━━━━━\u001b[0m\u001b[37m\u001b[0m \u001b[1m28s\u001b[0m 501ms/step - loss: 0.8191 - val_loss: 0.8234\n",
      "Epoch 42/50\n",
      "\u001b[1m56/56\u001b[0m \u001b[32m━━━━━━━━━━━━━━━━━━━━\u001b[0m\u001b[37m\u001b[0m \u001b[1m29s\u001b[0m 517ms/step - loss: 0.8112 - val_loss: 0.8230\n",
      "Epoch 43/50\n",
      "\u001b[1m56/56\u001b[0m \u001b[32m━━━━━━━━━━━━━━━━━━━━\u001b[0m\u001b[37m\u001b[0m \u001b[1m29s\u001b[0m 515ms/step - loss: 0.8101 - val_loss: 0.8229\n",
      "Epoch 44/50\n",
      "\u001b[1m56/56\u001b[0m \u001b[32m━━━━━━━━━━━━━━━━━━━━\u001b[0m\u001b[37m\u001b[0m \u001b[1m28s\u001b[0m 503ms/step - loss: 0.8142 - val_loss: 0.8223\n",
      "Epoch 45/50\n",
      "\u001b[1m56/56\u001b[0m \u001b[32m━━━━━━━━━━━━━━━━━━━━\u001b[0m\u001b[37m\u001b[0m \u001b[1m28s\u001b[0m 503ms/step - loss: 0.8110 - val_loss: 0.8224\n",
      "Epoch 46/50\n",
      "\u001b[1m56/56\u001b[0m \u001b[32m━━━━━━━━━━━━━━━━━━━━\u001b[0m\u001b[37m\u001b[0m \u001b[1m29s\u001b[0m 514ms/step - loss: 0.8138 - val_loss: 0.8228\n",
      "Epoch 47/50\n",
      "\u001b[1m56/56\u001b[0m \u001b[32m━━━━━━━━━━━━━━━━━━━━\u001b[0m\u001b[37m\u001b[0m \u001b[1m28s\u001b[0m 506ms/step - loss: 0.8132 - val_loss: 0.8228\n",
      "Epoch 48/50\n",
      "\u001b[1m56/56\u001b[0m \u001b[32m━━━━━━━━━━━━━━━━━━━━\u001b[0m\u001b[37m\u001b[0m \u001b[1m28s\u001b[0m 496ms/step - loss: 0.8090 - val_loss: 0.8226\n",
      "Epoch 49/50\n",
      "\u001b[1m56/56\u001b[0m \u001b[32m━━━━━━━━━━━━━━━━━━━━\u001b[0m\u001b[37m\u001b[0m \u001b[1m29s\u001b[0m 511ms/step - loss: 0.8103 - val_loss: 0.8226\n",
      "Epoch 50/50\n",
      "\u001b[1m56/56\u001b[0m \u001b[32m━━━━━━━━━━━━━━━━━━━━\u001b[0m\u001b[37m\u001b[0m \u001b[1m28s\u001b[0m 506ms/step - loss: 0.8158 - val_loss: 0.8231\n"
     ]
    },
    {
     "data": {
      "text/plain": [
       "<keras.src.callbacks.history.History at 0x42d733380>"
      ]
     },
     "execution_count": 17,
     "metadata": {},
     "output_type": "execute_result"
    }
   ],
   "source": [
    "autoencoder.fit(\n",
    "    train_mfcc_features_combined,\n",
    "    train_mfcc_features_combined,\n",
    "    epochs=50,\n",
    "    batch_size=32,\n",
    "    validation_split=0.2,\n",
    "    verbose=1\n",
    ")\n"
   ]
  },
  {
   "cell_type": "code",
   "execution_count": 19,
   "metadata": {
    "colab": {
     "base_uri": "https://localhost:8080/"
    },
    "executionInfo": {
     "elapsed": 15832,
     "status": "ok",
     "timestamp": 1736158355349,
     "user": {
      "displayName": "Leonardo Callegari",
      "userId": "06106452287716635473"
     },
     "user_tz": -60
    },
    "id": "IBpwGTlQnzHL",
    "outputId": "27fcf5c5-99f4-40bd-9f9c-7f3b6a7aa7a1"
   },
   "outputs": [
    {
     "name": "stdout",
     "output_type": "stream",
     "text": [
      "\u001b[1m13/13\u001b[0m \u001b[32m━━━━━━━━━━━━━━━━━━━━\u001b[0m\u001b[37m\u001b[0m \u001b[1m2s\u001b[0m 150ms/step\n",
      "\u001b[1m15/15\u001b[0m \u001b[32m━━━━━━━━━━━━━━━━━━━━\u001b[0m\u001b[37m\u001b[0m \u001b[1m2s\u001b[0m 146ms/step\n",
      "Normal Reconstruction Error: [0.637342   0.55705774 1.0840608  0.7443871  1.0176879  0.6529448\n",
      " 0.72057927 0.6306314  0.7466055  1.5684638  0.5987369  0.7407258\n",
      " 0.6973425  0.660015   1.1188682  0.5564432  1.293216   1.3916389\n",
      " 0.58648247 0.51576585 1.1204212  1.4865621  0.8088872  0.63782203\n",
      " 0.5109008  0.7666731  0.8454408  0.6752862  0.6219505  0.60674936\n",
      " 0.6939255  0.6313041  0.7480922  1.12612    0.611861   0.7207645\n",
      " 0.5044335  0.8134665  0.5072204  1.2041786  0.50735945 0.47114068\n",
      " 0.86963207 0.7509752  0.8689509  1.1885372  0.74329984 1.0053258\n",
      " 0.4578653  0.46921697 1.4462019  0.8485069  0.6014159  0.66438234\n",
      " 0.72055084 0.96204925 0.63743496 1.1027606  0.56756884 0.59400344\n",
      " 0.6145146  0.82123715 0.50643635 0.5230927  0.5440408  0.5487415\n",
      " 1.6412361  0.5599176  0.8109613  0.8264545  0.8984839  0.5734903\n",
      " 0.86779433 1.4328163  0.89498615 0.77573246 0.78419447 0.74982893\n",
      " 0.81264937 0.48665288 0.90624577 0.5208938  0.48356396 0.85211647\n",
      " 1.3576545  0.65986323 0.7032925  0.68974274 0.82452756 0.7785357\n",
      " 0.621171   0.5902258  0.65541303 0.6007383  0.5910572  1.5829264\n",
      " 0.54075754 0.5726002  0.8862859  0.51595205 1.0494661  0.7137307\n",
      " 0.55986613 0.9084884  0.98916173 1.1302034  0.6277491  0.938541\n",
      " 1.4955757  0.6643057  0.49411586 0.44527918 0.65217406 0.807956\n",
      " 0.7002033  0.5236701  0.62296367 0.6522051  0.7088622  1.0741736\n",
      " 1.5482223  0.75784135 1.5279261  0.6290595  0.5752715  0.8426132\n",
      " 0.5568872  0.7609402  0.7677637  1.3180056  0.8438845  0.86154866\n",
      " 1.0316981  0.4790906  0.58559346 0.5607825  0.6194955  0.48328984\n",
      " 0.61261266 0.94065213 1.1272221  0.7968838  0.6241793  0.6304169\n",
      " 1.047477   0.83410347 0.45507517 0.7741583  0.9137203  0.86603457\n",
      " 0.8494977  0.7889689  0.6224948  0.5684069  0.639695   0.6041451\n",
      " 1.1920987  0.93791145 0.8998139  0.89226043 1.7154702  0.714839\n",
      " 0.94445515 0.69009095 0.56899977 0.573743   0.48563543 0.73209524\n",
      " 0.8783437  1.0931791  0.75873244 0.9098914  0.51400054 0.47134975\n",
      " 0.60386574 0.56195617 0.6675528  0.7198965  0.7151285  1.4421144\n",
      " 0.80625904 1.0681508  0.5688367  0.7094404  0.71071666 0.46700725\n",
      " 0.45347816 0.85847    0.7810123  1.0233921  1.0707129  0.797612\n",
      " 1.0424731  0.522306   0.5091901  0.497968   0.88879985 0.6780536\n",
      " 1.006047   0.78151345 0.7954676  0.79449946 0.5446043  0.64161164\n",
      " 0.5159473  0.6256498  0.47846362 0.85996497 0.763789   0.85465366\n",
      " 0.94918746 0.81679976 0.6849861  0.51097333 0.54056174 0.93204314\n",
      " 0.5610339  0.98216635 0.7804805  0.97280747 1.0855471  0.9924094\n",
      " 0.6141826  0.5773199  0.79756427 0.678918   0.46198508 0.6143269\n",
      " 1.1975024  0.93112427 1.0595274  1.0100331  0.550364   0.5395661\n",
      " 0.7748806  0.56547135 0.66722155 0.612167   0.8656932  0.75120246\n",
      " 0.9520981  0.6111533  0.8413039  1.1780202  0.6729466  0.5486441\n",
      " 0.53295845 0.5641701  0.7881534  1.2146966  0.78301513 1.0684772\n",
      " 0.47161037 0.61346936 0.6730984  0.6341608  0.6059907  0.61742747\n",
      " 0.9180445  0.8693094  0.6692472  0.91687286 0.6510434  1.287937\n",
      " 0.589586   0.575246   0.51807636 0.7830152  0.9082645  0.9127705\n",
      " 0.72395563 0.6861654  1.7515503  0.518791   0.55815685 0.7803302\n",
      " 0.5346367  0.5486306  0.75819814 1.0039843  0.6271945  0.76027465\n",
      " 0.79092026 0.66359913 0.88006854 0.7958255  0.6126975  0.5774063\n",
      " 0.6067871  0.49784672 1.1062446  0.744494   0.8375965  0.5309958\n",
      " 0.57265764 0.5557149  0.605199   0.88264173 0.92893237 0.5757393\n",
      " 0.81190574 0.6253767  0.7721373  1.0304123  2.015256   0.51880693\n",
      " 0.67269087 0.65007997 0.8662542  0.61500067 0.9269759  0.63743865\n",
      " 0.7081693  0.63208896 1.1515967  1.6682808  0.76620394 0.5053749\n",
      " 0.60916144 0.59484005 0.8847244  0.7639998  1.0599225  0.6309783\n",
      " 0.49326783 0.48683956 0.68653387 0.5503052  1.1358012  1.045916\n",
      " 0.5225682  0.48579428 0.4566096  0.8029707  0.56541276 0.602591\n",
      " 0.54837286 0.58940166 0.73229605 0.72178257 0.6080511  1.1988378\n",
      " 0.680163   0.8217044  0.84523624 0.6442664  0.5567341  0.6020297\n",
      " 0.5765757  0.6108465  0.57225436 0.7010154  0.48608497 0.94660866\n",
      " 1.0482597  1.0645217  0.84069055 0.84231704 0.522318   0.49616516\n",
      " 0.5977981  0.49146855 0.66920763 0.58718115 0.540179   0.71661514\n",
      " 0.7906019  0.954944   0.6179947  0.69154894 0.7612236  0.6595869\n",
      " 0.77370715 0.635579   1.3437693  0.7101364  0.57744724 0.57189846\n",
      " 0.5481154  0.84665745 0.5679667  0.5093935  0.5356216  0.9695104\n",
      " 0.86503184 1.0722979  0.99548167 0.5716083  0.61223704 0.581384\n",
      " 0.5153494  1.2009382  1.5019739  0.55530393 0.5979795  0.5244397\n",
      " 0.6211504  1.1149004  0.72366863 0.7569917 ]\n",
      "Anomalous Reconstruction Error: [0.96410465 1.3633295  0.5824397  0.64903826 0.54476583 0.7648288\n",
      " 0.5515839  0.56109256 0.57262295 1.1493641  0.72420484 0.6200853\n",
      " 0.67566586 0.54685056 0.7003211  0.5620491  0.7786387  0.736672\n",
      " 1.3321341  1.2992318  0.7851472  0.8685846  0.516715   0.5710128\n",
      " 0.57112956 0.6569716  0.94620025 0.5754024  0.8582374  1.1324582\n",
      " 0.91621065 0.6891439  1.1670603  0.51319224 0.6294962  0.6978158\n",
      " 0.59654146 0.56474483 1.1631234  0.59411454 1.2878609  2.348323\n",
      " 0.578564   0.60970396 0.765799   0.76605505 0.8051924  0.77472836\n",
      " 0.5936474  0.5493957  0.54911983 0.61143506 0.6151742  0.6531529\n",
      " 0.9240726  0.9901072  0.5453791  0.71650803 0.933216   1.1906805\n",
      " 1.3237609  1.2550226  1.4353539  0.73957485 0.6442112  0.5710034\n",
      " 1.0057731  0.5536842  0.53639036 1.0909632  0.568119   1.2815984\n",
      " 1.0066053  0.9305084  0.53896475 0.55419713 0.5401369  0.7024863\n",
      " 1.408135   1.5455664  1.6829351  1.3736223  0.6362862  0.59779865\n",
      " 0.59150046 1.0461466  0.81886035 1.1581323  0.56199217 0.6663431\n",
      " 1.2304779  0.57992727 0.5785956  0.9616989  0.9535324  0.56204927\n",
      " 0.6157952  0.5379345  1.0186722  0.67525923 0.55695647 0.7719874\n",
      " 0.81014585 0.48657355 0.66842526 1.4239764  1.1683768  1.5491567\n",
      " 1.0556291  0.58449584 0.84876305 0.6167782  0.62563694 0.52946544\n",
      " 0.5788172  1.3641222  1.1123087  1.3169401  1.6301     0.8314714\n",
      " 0.6473352  1.2449926  0.8341928  0.83388263 0.7736301  0.63061273\n",
      " 0.88560796 1.0385723  0.7565411  1.1021202  0.5304396  1.0918497\n",
      " 0.60237753 1.0168276  0.7710752  1.1327728  0.7402815  1.0629227\n",
      " 0.83622366 0.7049033  1.0705173  0.7203717  1.4040909  0.99933255\n",
      " 1.2939788  1.1453241  1.0753694  0.49037966 0.5763437  0.5810279\n",
      " 0.6779093  0.607459   1.1159625  1.573906   0.5567771  0.62471265\n",
      " 0.73760664 1.3327487  0.6112596  0.70272106 0.5991344  0.719316\n",
      " 0.59309584 1.4617313  0.54245394 0.82537705 0.64516675 0.64754117\n",
      " 1.0677282  1.2748456  0.55284804 0.5404168  0.8863477  0.90552866\n",
      " 0.71627474 0.6056459  1.3472481  0.79837865 0.579231   0.7706736\n",
      " 1.1311909  0.6547131  0.51213104 0.6038069  0.5948923  0.75646406\n",
      " 0.965261   1.0586324  1.2578955  0.67479897 0.67774105 0.60357195\n",
      " 1.1302906  0.636947   1.0043179  0.5382947  0.6306541  0.9543108\n",
      " 1.0426496  0.6037505  1.2842581  1.1597048  0.5699177  0.5647844\n",
      " 0.5809025  1.0084475  1.0733734  0.8912595  0.72507006 0.8236132\n",
      " 0.56178266 1.4240011  1.4631666  1.0483942  0.8403592  0.5963221\n",
      " 1.0487198  0.5774635  0.64137393 0.7804091  1.1090397  0.98997366\n",
      " 0.50398463 0.7613003  0.5906817  1.3356746  0.6795352  1.2266212\n",
      " 1.2319782  0.58536714 0.77753484 0.57028073 0.5763185  1.2077404\n",
      " 1.1345085  0.6320025  0.5929859  0.65778506 0.62036675 0.6418421\n",
      " 0.8404708  1.0833098  0.5552051  1.1173247  0.57462    0.48707357\n",
      " 0.6822879  0.54783875 1.0055159  1.1555657  1.141211   1.2086645\n",
      " 0.6179103  0.48850986 0.8125402  1.1004274  0.76294714 1.1804999\n",
      " 0.59176475 0.90603566 1.252697   1.663245   1.2180502  0.7633747\n",
      " 1.0631095  1.0045629  0.58949786 0.6393193  0.5876952  1.0097657\n",
      " 0.59298754 1.120604   0.64474165 1.0177015  1.0461164  0.56992084\n",
      " 0.48988748 0.94034517 1.2352898  0.7502473  0.53978413 0.5082859\n",
      " 1.1210252  1.3084202  0.7534128  0.6274439  1.0413141  0.87268555\n",
      " 1.0635995  0.61082596 0.6419958  0.5454923  0.556395   0.6247377\n",
      " 0.5946643  1.0310712  1.098519   1.3477143  0.93517333 1.3122443\n",
      " 0.8216551  0.64402044 0.65418947 0.65788454 0.77322936 0.7627488\n",
      " 1.0930007  1.250757   1.1250105  0.7035084  1.0425016  0.58102226\n",
      " 0.82671726 0.5256132  0.5259819  0.56493014 0.64176536 0.5316622\n",
      " 0.5701391  0.5344234  0.52476585 0.526474   0.8954032  1.370003\n",
      " 1.1579757  0.6488372  0.8349058  0.6474843  1.3306355  0.7749761\n",
      " 2.105664   0.6651279  0.6038092  1.139488   1.120684   1.3642058\n",
      " 0.66516715 0.5390177  1.2513114  0.62462676 0.6252989  0.64547366\n",
      " 1.370279   0.4932595  0.7321645  0.5750191  0.89733714 0.9798858\n",
      " 0.62237644 1.0694529  0.6414085  0.55225825 0.525813   0.55514616\n",
      " 0.5700736  1.0863345  0.778535   0.67567885 0.60382503 0.7925784\n",
      " 0.95229715 1.2522782  0.49492574 0.5074784  1.5322673  1.1256857\n",
      " 0.6932629  0.7890395  0.6166569  0.5307614  1.308497   1.1576729\n",
      " 0.57170737 0.80100596 0.5318166  0.6282532  0.5686591  0.63998103\n",
      " 0.6119116  0.65763396 0.6679671  0.5261439  0.49219128 0.6642308\n",
      " 0.58842665 0.6762481  0.5771185  0.60630256 0.58566207 0.63154167\n",
      " 1.184731   1.263949   1.5038253  1.2306087  0.56846315 0.8228316\n",
      " 0.5238142  1.0696777  0.9474521  0.5182217  0.53909886 0.55307007\n",
      " 1.3369796  1.2196215  0.59863675 0.5503565  0.6422136  1.1408086\n",
      " 0.5421265  0.78804666 0.61178064 1.1212099  0.6316279  0.58503425\n",
      " 1.2153671  0.574165   0.52252984 0.55913895 0.96278405 0.78034496\n",
      " 0.56978744 0.5336627  0.56227374 0.57423836 0.63196224 0.6053242\n",
      " 1.036336   0.6151759  1.0189968  0.57023966 0.5550597  0.60215163\n",
      " 0.95609677 1.3870128  1.3390864  1.3186111  1.3312107  0.65531975\n",
      " 0.5409464  0.5321975  0.5771216  0.7651403  1.0619769  0.55327594\n",
      " 0.7867877  0.5713627  0.5386059  0.6014501  0.5202369  1.1022464\n",
      " 0.5327242  0.82970273 0.80905545 1.0647668  1.3642257  1.3038629 ]\n"
     ]
    }
   ],
   "source": [
    "# Predict reconstruction for normal and anomalous data\n",
    "normal_reconstruction = autoencoder.predict(test_mfcc_features_combined)\n",
    "anomaly_reconstruction = autoencoder.predict(anomaly_mfcc_features_combined)\n",
    "\n",
    "# Non aggiungere una nuova dimensione [..., None] poiché non è necessaria\n",
    "# Calcola l'errore di ricostruzione direttamente\n",
    "normal_error = np.mean(np.square(test_mfcc_features_combined - normal_reconstruction), axis=(1, 2))\n",
    "anomaly_error = np.mean(np.square(anomaly_mfcc_features_combined - anomaly_reconstruction), axis=(1, 2))\n",
    "\n",
    "# Mostra i risultati\n",
    "print(\"Normal Reconstruction Error:\", normal_error)\n",
    "print(\"Anomalous Reconstruction Error:\", anomaly_error)\n"
   ]
  },
  {
   "cell_type": "code",
   "execution_count": 20,
   "metadata": {
    "id": "ElotzLA1oKtv"
   },
   "outputs": [],
   "source": [
    "import numpy as np\n",
    "\n",
    "# Calculate reconstruction error for normal data\n",
    "normal_error = np.mean(np.square(test_mfcc_features_combined - normal_reconstruction), axis=(1, 2))\n",
    "\n",
    "# Calculate reconstruction error for anomalous data\n",
    "anomaly_error = np.mean(np.square(anomaly_mfcc_features_combined - anomaly_reconstruction), axis=(1, 2))\n"
   ]
  },
  {
   "cell_type": "code",
   "execution_count": 21,
   "metadata": {
    "colab": {
     "base_uri": "https://localhost:8080/"
    },
    "executionInfo": {
     "elapsed": 308,
     "status": "ok",
     "timestamp": 1736158484444,
     "user": {
      "displayName": "Leonardo Callegari",
      "userId": "06106452287716635473"
     },
     "user_tz": -60
    },
    "id": "B71rWgTRoLOE",
    "outputId": "7c336450-3256-4f2f-9168-14a9d9de1fa3"
   },
   "outputs": [
    {
     "name": "stdout",
     "output_type": "stream",
     "text": [
      "Reconstruction Error Threshold: 1.0066449284553527\n"
     ]
    }
   ],
   "source": [
    "# Determine the threshold (e.g., 95th percentile of normal error)\n",
    "threshold = np.percentile(normal_error, 85)\n",
    "print(\"Reconstruction Error Threshold:\", threshold)\n"
   ]
  },
  {
   "cell_type": "code",
   "execution_count": 23,
   "metadata": {
    "colab": {
     "base_uri": "https://localhost:8080/"
    },
    "executionInfo": {
     "elapsed": 564,
     "status": "ok",
     "timestamp": 1736158486249,
     "user": {
      "displayName": "Leonardo Callegari",
      "userId": "06106452287716635473"
     },
     "user_tz": -60
    },
    "id": "FnEOYsduoMEM",
    "outputId": "38beeb80-8833-4dbe-95ad-dd779c81a4bf"
   },
   "outputs": [
    {
     "name": "stdout",
     "output_type": "stream",
     "text": [
      "Number of anomalies in normal data: 60\n",
      "Number of anomalies in anomalous data: 134\n"
     ]
    }
   ],
   "source": [
    "# Classify normal and anomalous data\n",
    "normal_predictions = normal_error > threshold\n",
    "anomaly_predictions = anomaly_error > threshold\n",
    "\n",
    "# Count anomalies\n",
    "print(f\"Number of anomalies in normal data: {np.sum(normal_predictions)}\")\n",
    "print(f\"Number of anomalies in anomalous data: {np.sum(anomaly_predictions)}\")\n"
   ]
  },
  {
   "cell_type": "code",
   "execution_count": 24,
   "metadata": {
    "colab": {
     "base_uri": "https://localhost:8080/",
     "height": 564
    },
    "executionInfo": {
     "elapsed": 714,
     "status": "ok",
     "timestamp": 1736158488045,
     "user": {
      "displayName": "Leonardo Callegari",
      "userId": "06106452287716635473"
     },
     "user_tz": -60
    },
    "id": "FLDwUMTpoO6b",
    "outputId": "4dec03d5-14fe-4928-b4c8-54dd75425074"
   },
   "outputs": [
    {
     "data": {
      "image/png": "[encoded data removed]",
      "text/plain": [
       "<Figure size 1000x600 with 1 Axes>"
      ]
     },
     "metadata": {},
     "output_type": "display_data"
    }
   ],
   "source": [
    "import matplotlib.pyplot as plt\n",
    "\n",
    "# Plot reconstruction error distributions\n",
    "plt.figure(figsize=(10, 6))\n",
    "plt.hist(normal_error, bins=50, alpha=0.7, label='Normal Data')\n",
    "plt.hist(anomaly_error, bins=50, alpha=0.7, label='Anomalous Data')\n",
    "plt.axvline(threshold, color='r', linestyle='--', label='Threshold')\n",
    "plt.title(\"Reconstruction Error Distribution\")\n",
    "plt.xlabel(\"Reconstruction Error\")\n",
    "plt.ylabel(\"Frequency\")\n",
    "plt.legend()\n",
    "plt.show()\n"
   ]
  },
  {
   "cell_type": "code",
   "execution_count": 25,
   "metadata": {
    "colab": {
     "base_uri": "https://localhost:8080/",
     "height": 657
    },
    "executionInfo": {
     "elapsed": 17862,
     "status": "ok",
     "timestamp": 1736158512561,
     "user": {
      "displayName": "Leonardo Callegari",
      "userId": "06106452287716635473"
     },
     "user_tz": -60
    },
    "id": "hzZjREHaoZq7",
    "outputId": "341078e3-dc64-460b-eaba-624a0416f0a3"
   },
   "outputs": [
    {
     "name": "stdout",
     "output_type": "stream",
     "text": [
      "\u001b[1m13/13\u001b[0m \u001b[32m━━━━━━━━━━━━━━━━━━━━\u001b[0m\u001b[37m\u001b[0m \u001b[1m1s\u001b[0m 95ms/step\n",
      "\u001b[1m15/15\u001b[0m \u001b[32m━━━━━━━━━━━━━━━━━━━━\u001b[0m\u001b[37m\u001b[0m \u001b[1m1s\u001b[0m 82ms/step\n"
     ]
    },
    {
     "data": {
      "image/png": "[encoded data removed]",
      "text/plain": [
       "<Figure size 1000x700 with 1 Axes>"
      ]
     },
     "metadata": {},
     "output_type": "display_data"
    }
   ],
   "source": [
    "from sklearn.manifold import TSNE\n",
    "\n",
    "# Get latent representations\n",
    "normal_latent = latent_model.predict(test_mfcc_features_combined)\n",
    "anomaly_latent = latent_model.predict(anomaly_mfcc_features_combined)\n",
    "\n",
    "# Apply t-SNE\n",
    "latent_combined = np.concatenate([normal_latent, anomaly_latent], axis=0)\n",
    "labels = [0] * len(normal_latent) + [1] * len(anomaly_latent)\n",
    "\n",
    "tsne = TSNE(n_components=2, perplexity=30, random_state=42)\n",
    "latent_2d = tsne.fit_transform(latent_combined)\n",
    "\n",
    "# Plot t-SNE\n",
    "plt.figure(figsize=(10, 7))\n",
    "plt.scatter(latent_2d[:len(normal_latent), 0], latent_2d[:len(normal_latent), 1], label=\"Normal\", alpha=0.7)\n",
    "plt.scatter(latent_2d[len(normal_latent):, 0], latent_2d[len(normal_latent):, 1], label=\"Anomalous\", alpha=0.7)\n",
    "plt.legend()\n",
    "plt.title(\"t-SNE Visualization of Latent Space\")\n",
    "plt.show()\n"
   ]
  },
  {
   "cell_type": "code",
   "execution_count": 26,
   "metadata": {
    "colab": {
     "base_uri": "https://localhost:8080/"
    },
    "executionInfo": {
     "elapsed": 14923,
     "status": "ok",
     "timestamp": 1736158527481,
     "user": {
      "displayName": "Leonardo Callegari",
      "userId": "06106452287716635473"
     },
     "user_tz": -60
    },
    "id": "R3Cyc9IYoyNu",
    "outputId": "ffc1c31e-aeb8-4b9c-d98b-62385f4673d4"
   },
   "outputs": [
    {
     "name": "stdout",
     "output_type": "stream",
     "text": [
      "\u001b[1m71/71\u001b[0m \u001b[32m━━━━━━━━━━━━━━━━━━━━\u001b[0m\u001b[37m\u001b[0m \u001b[1m5s\u001b[0m 75ms/step\n",
      "\u001b[1m13/13\u001b[0m \u001b[32m━━━━━━━━━━━━━━━━━━━━\u001b[0m\u001b[37m\u001b[0m \u001b[1m1s\u001b[0m 86ms/step\n",
      "\u001b[1m15/15\u001b[0m \u001b[32m━━━━━━━━━━━━━━━━━━━━\u001b[0m\u001b[37m\u001b[0m \u001b[1m1s\u001b[0m 82ms/step\n"
     ]
    }
   ],
   "source": [
    "# Extract latent representations for normal and anomalous data\n",
    "normal_latent = latent_model.predict(train_mfcc_features_combined)  # Shape: (n_samples, latent_dim)\n",
    "test_latent = latent_model.predict(test_mfcc_features_combined)\n",
    "anomaly_latent = latent_model.predict(anomaly_mfcc_features_combined)\n",
    "\n",
    "# Combine data and create labels (normal: 0, anomaly: 1)\n",
    "X = np.concatenate([normal_latent, anomaly_latent], axis=0)\n",
    "y = np.concatenate([np.zeros(len(normal_latent)), np.ones(len(anomaly_latent))], axis=0)\n"
   ]
  },
  {
   "cell_type": "code",
   "execution_count": 27,
   "metadata": {
    "id": "1XuLFW5voz8p"
   },
   "outputs": [],
   "source": [
    "from sklearn.model_selection import train_test_split\n",
    "\n",
    "# Split into training and testing sets\n",
    "X_train, X_test, y_train, y_test = train_test_split(X, y, test_size=0.2, random_state=42)\n"
   ]
  },
  {
   "cell_type": "code",
   "execution_count": 28,
   "metadata": {
    "id": "flWwK148o1O8"
   },
   "outputs": [],
   "source": [
    "from sklearn.ensemble import RandomForestClassifier\n",
    "\n",
    "# Train a Random Forest classifier\n",
    "rf = RandomForestClassifier(n_estimators=100, random_state=42)\n",
    "rf.fit(X_train, y_train)\n",
    "\n",
    "# Predict and evaluate\n",
    "y_pred = rf.predict(X_test)\n"
   ]
  },
  {
   "cell_type": "code",
   "execution_count": 29,
   "metadata": {
    "colab": {
     "base_uri": "https://localhost:8080/"
    },
    "executionInfo": {
     "elapsed": 2,
     "status": "ok",
     "timestamp": 1736158530788,
     "user": {
      "displayName": "Leonardo Callegari",
      "userId": "06106452287716635473"
     },
     "user_tz": -60
    },
    "id": "3Fgl7Ocso-qn",
    "outputId": "5a33ad0c-a1ea-42bf-df3f-93b1ab3aebff"
   },
   "outputs": [
    {
     "name": "stdout",
     "output_type": "stream",
     "text": [
      "Classification Report:\n",
      "               precision    recall  f1-score   support\n",
      "\n",
      "         0.0       0.87      1.00      0.93       451\n",
      "         1.0       0.95      0.22      0.36        89\n",
      "\n",
      "    accuracy                           0.87       540\n",
      "   macro avg       0.91      0.61      0.65       540\n",
      "weighted avg       0.88      0.87      0.83       540\n",
      "\n",
      "Confusion Matrix:\n",
      " [[450   1]\n",
      " [ 69  20]]\n",
      "ROC-AUC Score: 0.7980891402376742\n"
     ]
    }
   ],
   "source": [
    "from sklearn.metrics import classification_report, confusion_matrix, roc_auc_score\n",
    "\n",
    "# Classification report\n",
    "print(\"Classification Report:\\n\", classification_report(y_test, y_pred))\n",
    "\n",
    "# Confusion matrix\n",
    "print(\"Confusion Matrix:\\n\", confusion_matrix(y_test, y_pred))\n",
    "\n",
    "# ROC-AUC score\n",
    "roc_auc = roc_auc_score(y_test, rf.predict_proba(X_test)[:, 1])\n",
    "print(\"ROC-AUC Score:\", roc_auc)\n"
   ]
  },
  {
   "cell_type": "code",
   "execution_count": 30,
   "metadata": {
    "id": "g3cOsyAao2n5"
   },
   "outputs": [],
   "source": [
    "from sklearn.svm import SVC\n",
    "\n",
    "# Train an SVM classifier\n",
    "svm = SVC(kernel='rbf', probability=True, random_state=42)\n",
    "svm.fit(X_train, y_train)\n",
    "\n",
    "# Predict and evaluate\n",
    "y_pred = svm.predict(X_test)\n"
   ]
  },
  {
   "cell_type": "code",
   "execution_count": 31,
   "metadata": {
    "colab": {
     "base_uri": "https://localhost:8080/"
    },
    "executionInfo": {
     "elapsed": 2,
     "status": "ok",
     "timestamp": 1736158531986,
     "user": {
      "displayName": "Leonardo Callegari",
      "userId": "06106452287716635473"
     },
     "user_tz": -60
    },
    "id": "yBqUzRIdo_Um",
    "outputId": "f8d66b87-ca80-4f5a-b0b8-923e61a8524e"
   },
   "outputs": [
    {
     "name": "stdout",
     "output_type": "stream",
     "text": [
      "Classification Report:\n",
      "               precision    recall  f1-score   support\n",
      "\n",
      "         0.0       0.88      1.00      0.93       451\n",
      "         1.0       0.96      0.29      0.45        89\n",
      "\n",
      "    accuracy                           0.88       540\n",
      "   macro avg       0.92      0.64      0.69       540\n",
      "weighted avg       0.89      0.88      0.85       540\n",
      "\n",
      "Confusion Matrix:\n",
      " [[450   1]\n",
      " [ 63  26]]\n",
      "ROC-AUC Score: 0.8294676000896883\n"
     ]
    }
   ],
   "source": [
    "from sklearn.metrics import classification_report, confusion_matrix, roc_auc_score\n",
    "\n",
    "# Classification report\n",
    "print(\"Classification Report:\\n\", classification_report(y_test, y_pred))\n",
    "\n",
    "# Confusion matrix\n",
    "print(\"Confusion Matrix:\\n\", confusion_matrix(y_test, y_pred))\n",
    "\n",
    "# ROC-AUC score\n",
    "roc_auc = roc_auc_score(y_test, svm.predict_proba(X_test)[:, 1])\n",
    "print(\"ROC-AUC Score:\", roc_auc)\n"
   ]
  }
 ],
 "metadata": {
  "colab": {
   "provenance": []
  },
  "kernelspec": {
   "display_name": "base",
   "language": "python",
   "name": "python3"
  },
  "language_info": {
   "codemirror_mode": {
    "name": "ipython",
    "version": 3
   },
   "file_extension": ".py",
   "mimetype": "text/x-python",
   "name": "python",
   "nbconvert_exporter": "python",
   "pygments_lexer": "ipython3",
   "version": "3.12.2"
  }
 },
 "nbformat": 4,
 "nbformat_minor": 0
}
